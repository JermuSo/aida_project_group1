{
 "cells": [
  {
   "cell_type": "markdown",
   "metadata": {},
   "source": [
    "### Phase 4 (Modeling)\n",
    "\n",
    "_TODO: YOUR ANSWER WILL IN THIS DOCUMENT_\n",
    "\n",
    "Linkin notebook käsittelee autojen hintojen ennustamista syväoppimismallilla ja sen optimointia neuroverkkorakenteiden avulla. Mallin kouluttamiseen on käytetty GPU:n laskentatehoa.\n",
    "\n",
    "```\n",
    "Mean Squared Error (MSE): 7562431.5000\n",
    "Root Mean Squared Error (RMSE): 2749.9875\n",
    "Mean Absolute Error (MAE): 1987.2920\n",
    "R-squared (R2): 0.9504\n",
    "```\n",
    "\n",
    "[DL-results notebook](https://gitlab.labranet.jamk.fi/AC7766/aida-projekti-syksy-2024-ryhma-1/-/blob/main/docs/Phase%204/dlearn_results.ipynb)\n",
    "\n",
    "Linkin notebook sisältää autojen hintojen ennustamiseen optimoidun Random Forest -mallin ja sen suorituskykyanalyysin.\n",
    "\n",
    "```\n",
    "Mean Squared Error: 3314424.73\n",
    "R-squared: 0.98\n",
    "Root Mean Squared Error: 1820.56\n",
    "MAE: 1172.4659546276207\n",
    "```\n",
    "\n",
    "[RF-results notebook](https://gitlab.labranet.jamk.fi/AC7766/aida-projekti-syksy-2024-ryhma-1/-/blob/main/docs/Phase%204/rf_results.ipynb)"
   ]
  },
  {
   "cell_type": "markdown",
   "metadata": {
    "jp-MarkdownHeadingCollapsed": true
   },
   "source": [
    "## Knn algo setit"
   ]
  },
  {
   "cell_type": "code",
   "execution_count": 2,
   "metadata": {},
   "outputs": [
    {
     "ename": "NameError",
     "evalue": "name 'knn_df' is not defined",
     "output_type": "error",
     "traceback": [
      "\u001b[1;31m---------------------------------------------------------------------------\u001b[0m",
      "\u001b[1;31mNameError\u001b[0m                                 Traceback (most recent call last)",
      "Cell \u001b[1;32mIn[2], line 1\u001b[0m\n\u001b[1;32m----> 1\u001b[0m X \u001b[38;5;241m=\u001b[39m \u001b[43mknn_df\u001b[49m\u001b[38;5;241m.\u001b[39mdrop(columns\u001b[38;5;241m=\u001b[39m[\u001b[38;5;124m'\u001b[39m\u001b[38;5;124mprice\u001b[39m\u001b[38;5;124m'\u001b[39m])\n\u001b[0;32m      2\u001b[0m y \u001b[38;5;241m=\u001b[39m knn_df[\u001b[38;5;124m'\u001b[39m\u001b[38;5;124mprice\u001b[39m\u001b[38;5;124m'\u001b[39m]\n",
      "\u001b[1;31mNameError\u001b[0m: name 'knn_df' is not defined"
     ]
    }
   ],
   "source": [
    "X = knn_df.drop(columns=['price'])\n",
    "y = knn_df['price']\n"
   ]
  },
  {
   "cell_type": "code",
   "execution_count": null,
   "metadata": {},
   "outputs": [],
   "source": []
  },
  {
   "cell_type": "code",
   "execution_count": null,
   "metadata": {},
   "outputs": [],
   "source": [
    "from sklearn.model_selection import train_test_split\n",
    "\n",
    "X_train, X_test, y_train, y_test = train_test_split(X, y, test_size=0.2, random_state=42)"
   ]
  },
  {
   "cell_type": "code",
   "execution_count": null,
   "metadata": {},
   "outputs": [],
   "source": [
    "from sklearn.neighbors import KNeighborsRegressor\n",
    "from sklearn.metrics import mean_squared_error, r2_score\n",
    "\n",
    "# Initialize KNN regressor\n",
    "knn = KNeighborsRegressor(n_neighbors=5)\n",
    "\n",
    "# Train the model\n",
    "knn.fit(X_train, y_train)\n",
    "\n",
    "# Predict\n",
    "y_pred = knn.predict(X_test)\n",
    "\n",
    "# Evaluate the model\n",
    "mse = mean_squared_error(y_test, y_pred)\n",
    "r2 = r2_score(y_test, y_pred)\n",
    "\n",
    "print(f\"Mean Squared Error: {mse}\")\n",
    "print(f\"R-squared: {r2}\")"
   ]
  },
  {
   "cell_type": "code",
   "execution_count": null,
   "metadata": {},
   "outputs": [],
   "source": [
    "from sklearn.model_selection import GridSearchCV\n",
    "\n",
    "param_grid = {'n_neighbors': [3, 5, 7, 10, 15, 20]}\n",
    "grid_search = GridSearchCV(KNeighborsRegressor(), param_grid, cv=5, scoring='r2')\n",
    "grid_search.fit(X_train, y_train)\n",
    "print(\"Best Parameters:\", grid_search.best_params_)\n",
    "print(\"Best R-squared:\", grid_search.best_score_)\n"
   ]
  },
  {
   "cell_type": "code",
   "execution_count": null,
   "metadata": {},
   "outputs": [],
   "source": [
    "knn = KNeighborsRegressor(n_neighbors=7)\n",
    "\n",
    "# Train the model\n",
    "knn.fit(X_train, y_train)\n",
    "\n",
    "# Predict\n",
    "y_pred = knn.predict(X_test)\n",
    "\n",
    "# Evaluate the model\n",
    "mse = mean_squared_error(y_test, y_pred)\n",
    "r2 = r2_score(y_test, y_pred)\n",
    "\n",
    "print(f\"Mean Squared Error: {mse}\")\n",
    "print(f\"R-squared: {r2}\")"
   ]
  },
  {
   "cell_type": "markdown",
   "metadata": {
    "jp-MarkdownHeadingCollapsed": true
   },
   "source": [
    "## Tree based algo setit"
   ]
  },
  {
   "cell_type": "code",
   "execution_count": null,
   "metadata": {},
   "outputs": [],
   "source": [
    "# testataan suoraan vaan näillä seteillä\n",
    "from sklearn.ensemble import RandomForestRegressor\n",
    "from sklearn.model_selection import train_test_split\n",
    "\n",
    "\n",
    "# Split data\n",
    "X = rf_df.drop(columns=['price'])  # Features\n",
    "y = rf_df['price']  # Target\n",
    "\n",
    "X_train, X_test, y_train, y_test = train_test_split(X, y, test_size=0.2, random_state=42)"
   ]
  },
  {
   "cell_type": "code",
   "execution_count": null,
   "metadata": {},
   "outputs": [],
   "source": [
    "# model train\n",
    "rf_model = RandomForestRegressor(random_state=42)\n",
    "rf_model.fit(X_train, y_train)"
   ]
  },
  {
   "cell_type": "code",
   "execution_count": null,
   "metadata": {},
   "outputs": [],
   "source": [
    "# Evaluate the model\n",
    "y_pred = rf_model.predict(X_test)\n",
    "from sklearn.metrics import mean_squared_error, r2_score\n",
    "\n",
    "mse = mean_squared_error(y_test, y_pred)\n",
    "r2 = r2_score(y_test, y_pred)\n",
    "print(f\"Mean Squared Error: {mse}\")\n",
    "print(f\"R-squared: {r2}\")"
   ]
  },
  {
   "cell_type": "code",
   "execution_count": null,
   "metadata": {},
   "outputs": [],
   "source": [
    "# testataan feature importance rf-mallille\n",
    "\n",
    "import matplotlib.pyplot as plt\n",
    "feature_importances = rf_model.feature_importances_\n",
    "sorted_idx = feature_importances.argsort()\n",
    "plt.figure(figsize=(8, 14)) \n",
    "plt.barh(X_train.columns[sorted_idx], feature_importances[sorted_idx])\n",
    "plt.xlabel(\"Random Forest Feature Importance\")\n",
    "plt.ylabel(\"Features\")\n",
    "plt.title(\"Feature Importance in Random Forest Model\")\n",
    "plt.show()"
   ]
  },
  {
   "cell_type": "markdown",
   "metadata": {},
   "source": [
    "## Deep learning algo setit\n"
   ]
  },
  {
   "cell_type": "code",
   "execution_count": null,
   "metadata": {},
   "outputs": [],
   "source": [
    "# Define target and features\n",
    "target = 'price'\n",
    "X = tf_df.drop(columns=[target])\n",
    "y = tf_df[target]\n",
    "\n",
    "# Split into training and test sets\n",
    "from sklearn.model_selection import train_test_split\n",
    "\n",
    "X_train, X_test, y_train, y_test = train_test_split(X, y, test_size=0.2, random_state=42)"
   ]
  },
  {
   "cell_type": "code",
   "execution_count": null,
   "metadata": {},
   "outputs": [],
   "source": [
    "import tensorflow as tf\n",
    "from tensorflow.keras.layers import Input, Embedding, Dense, Flatten, Concatenate, Dropout\n",
    "from tensorflow.keras.models import Model\n",
    "from tensorflow.keras.regularizers import l2\n",
    "\n",
    "# Define embedding dimensions (rule of thumb: min(50, number of unique categories // 2))\n",
    "embedding_dims = {\n",
    "    'fuel_type_encoded': (5, 3),   # (unique_categories, embedding_size)\n",
    "    'make_encoded': (48, 24),\n",
    "    'city_encoded': (411, 50),\n",
    "    'model_encoded': (657, 50)\n",
    "}\n",
    "\n",
    "# Create inputs and embedding layers\n",
    "inputs = {}\n",
    "embeddings = []\n",
    "\n",
    "for col, (num_categories, embed_size) in embedding_dims.items():\n",
    "    inp = Input(shape=(1,), name=col)\n",
    "    emb = Embedding(input_dim=num_categories, output_dim=embed_size, input_length=1)(inp)\n",
    "    embeddings.append(Flatten()(emb))\n",
    "    inputs[col] = inp"
   ]
  },
  {
   "cell_type": "code",
   "execution_count": null,
   "metadata": {},
   "outputs": [],
   "source": [
    "# Numerical features\n",
    "numerical_cols = X_train.drop(columns=embedding_dims.keys()).columns\n",
    "numerical_input = Input(shape=(len(numerical_cols),), name='numerical_inputs')\n",
    "\n",
    "# Add to inputs\n",
    "inputs['numerical'] = numerical_input"
   ]
  },
  {
   "cell_type": "code",
   "execution_count": null,
   "metadata": {},
   "outputs": [],
   "source": [
    "# Combine embeddings and numerical inputs\n",
    "all_features = Concatenate()([*embeddings, numerical_input])"
   ]
  },
  {
   "cell_type": "code",
   "execution_count": null,
   "metadata": {},
   "outputs": [],
   "source": [
    "# Add dense layers\n",
    "#x = Dense(128, activation='relu')(all_features)\n",
    "x = Dense(128, activation='relu')(all_features)\n",
    "x = Dense(64, activation='relu')(x)\n",
    "x = Dense(32, activation='relu')(x)\n",
    "\n",
    "# Output layer (predicting price)\n",
    "output = Dense(1, activation='linear', name='output')(x)\n",
    "\n",
    "# Build and compile model\n",
    "model = Model(inputs=list(inputs.values()), outputs=output)\n",
    "model.compile(optimizer='adam', loss='mse', metrics=['mae'])\n",
    "\n",
    "# Print model summary\n",
    "model.summary()"
   ]
  },
  {
   "cell_type": "code",
   "execution_count": null,
   "metadata": {},
   "outputs": [],
   "source": [
    "# Prepare input dictionaries for TensorFlow\n",
    "train_inputs = {col: X_train[col] for col in embedding_dims.keys()}\n",
    "train_inputs['numerical_inputs'] = X_train[numerical_cols].values  # Correct key name\n",
    "\n",
    "test_inputs = {col: X_test[col] for col in embedding_dims.keys()}\n",
    "test_inputs['numerical_inputs'] = X_test[numerical_cols].values  # Correct key name\n"
   ]
  },
  {
   "cell_type": "code",
   "execution_count": null,
   "metadata": {},
   "outputs": [],
   "source": [
    "# Train the model\n",
    "\n",
    "history = model.fit(\n",
    "    train_inputs,\n",
    "    y_train,\n",
    "    validation_data=(test_inputs, y_test),\n",
    "    epochs=40,\n",
    "    batch_size=64\n",
    ")\n",
    "\n",
    "# Evaluate the model\n",
    "loss, mae = model.evaluate(test_inputs, y_test)\n",
    "print(f\"Test Loss: {loss}, Test MAE: {mae}\")"
   ]
  }
 ],
 "metadata": {
  "kernelspec": {
   "display_name": "Python 3 (ipykernel)",
   "language": "python",
   "name": "python3"
  },
  "language_info": {
   "codemirror_mode": {
    "name": "ipython",
    "version": 3
   },
   "file_extension": ".py",
   "mimetype": "text/x-python",
   "name": "python",
   "nbconvert_exporter": "python",
   "pygments_lexer": "ipython3",
   "version": "3.9.21"
  }
 },
 "nbformat": 4,
 "nbformat_minor": 4
}
